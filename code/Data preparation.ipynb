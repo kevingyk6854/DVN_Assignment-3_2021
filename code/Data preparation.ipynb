{
 "cells": [
  {
   "cell_type": "code",
   "execution_count": 2,
   "metadata": {},
   "outputs": [],
   "source": [
    "# common\n",
    "import pandas as pd\n",
    "import numpy as np\n",
    "import math\n",
    "\n",
    "# plot\n",
    "import plotly.express as px\n",
    "import plotly.graph_objects as go"
   ]
  },
  {
   "cell_type": "code",
   "execution_count": 12,
   "metadata": {},
   "outputs": [],
   "source": [
    "path = '../data'\n",
    "\n",
    "publish_date = '2021-04-27'\n",
    "\n",
    "# Covid info from OWID\n",
    "owid_covid_df = pd.read_csv('{path}/OWID/{publish_date}/owid-covid-data.csv'.format(path=path, \n",
    "                                                                                    publish_date=publish_date))\n",
    "\n",
    "# Vaccination info from WHO official website\n",
    "who_vacc_df = pd.read_csv('{path}/WHO/{publish_date}/vaccination-data.csv'.format(path=path, \n",
    "                                                                                  publish_date=publish_date))\n",
    "\n",
    "\n",
    "\n",
    "# owid_daily_vacc_df = pd.read_csv('{path}/OWID/{publish_date}/daily-covid-19-vaccination-doses.csv'.format(path=path,\n",
    "#                                                                                                           publish_date=publish_date))\n",
    "\n",
    "owid_vac_will_df = pd.read_csv('{path}/OWID/{publish_date}/covid-vaccine-willingness.csv'.format(path=path, \n",
    "                                                                                              publish_date=publish_date))"
   ]
  },
  {
   "cell_type": "code",
   "execution_count": 10,
   "metadata": {},
   "outputs": [],
   "source": [
    "path = '../data'\n",
    "\n",
    "publish_date = '2021-05-01'\n",
    "\n",
    "# Covid info from OWID\n",
    "owid_vac_df = pd.read_csv('{path}/OWID/{publish_date}/vaccinations.csv'.format(path=path, \n",
    "                                                                               publish_date=publish_date))\n",
    "\n",
    "# owid_vac_df['date'] = pd.to_datetime(owid_vac_df['date'])"
   ]
  },
  {
   "cell_type": "code",
   "execution_count": 26,
   "metadata": {},
   "outputs": [
    {
     "data": {
      "text/html": [
       "<div>\n",
       "<style scoped>\n",
       "    .dataframe tbody tr th:only-of-type {\n",
       "        vertical-align: middle;\n",
       "    }\n",
       "\n",
       "    .dataframe tbody tr th {\n",
       "        vertical-align: top;\n",
       "    }\n",
       "\n",
       "    .dataframe thead th {\n",
       "        text-align: right;\n",
       "    }\n",
       "</style>\n",
       "<table border=\"1\" class=\"dataframe\">\n",
       "  <thead>\n",
       "    <tr style=\"text-align: right;\">\n",
       "      <th></th>\n",
       "      <th>Entity</th>\n",
       "      <th>Code</th>\n",
       "      <th>Day</th>\n",
       "      <th>vaccination_policy</th>\n",
       "    </tr>\n",
       "  </thead>\n",
       "  <tbody>\n",
       "    <tr>\n",
       "      <th>0</th>\n",
       "      <td>Afghanistan</td>\n",
       "      <td>AFG</td>\n",
       "      <td>2020-01-01</td>\n",
       "      <td>0</td>\n",
       "    </tr>\n",
       "  </tbody>\n",
       "</table>\n",
       "</div>"
      ],
      "text/plain": [
       "        Entity Code         Day  vaccination_policy\n",
       "0  Afghanistan  AFG  2020-01-01                   0"
      ]
     },
     "execution_count": 26,
     "metadata": {},
     "output_type": "execute_result"
    }
   ],
   "source": [
    "path = '../data'\n",
    "\n",
    "publish_date = '2021-05-02'\n",
    "\n",
    "# Covid info from OWID\n",
    "OxCGRT_vac_policy_df = pd.read_csv('{path}/OxCGRT/{publish_date}/covid-vaccination-policy.csv'.format(path=path, \n",
    "                                                                               publish_date=publish_date))\n",
    "\n",
    "OxCGRT_vac_policy_df.head(1)"
   ]
  },
  {
   "cell_type": "code",
   "execution_count": 24,
   "metadata": {},
   "outputs": [
    {
     "data": {
      "text/plain": [
       "Entity                                   0.0\n",
       "Code                                     0.0\n",
       "Day                                      0.0\n",
       "willingness_covid_vaccinate_this_week    0.0\n",
       "dtype: float64"
      ]
     },
     "execution_count": 24,
     "metadata": {},
     "output_type": "execute_result"
    }
   ],
   "source": [
    "owid_vac_will_df.isnull().mean()"
   ]
  },
  {
   "cell_type": "code",
   "execution_count": 20,
   "metadata": {},
   "outputs": [
    {
     "data": {
      "text/plain": [
       "COUNTRY                                 0.000000\n",
       "ISO3                                    0.000000\n",
       "WHO_REGION                              0.000000\n",
       "DATA_SOURCE                             0.000000\n",
       "DATE_UPDATED                            0.000000\n",
       "TOTAL_VACCINATIONS                      0.004717\n",
       "PERSONS_VACCINATED_1PLUS_DOSE           0.127358\n",
       "TOTAL_VACCINATIONS_PER100               0.004717\n",
       "PERSONS_VACCINATED_1PLUS_DOSE_PER100    0.127358\n",
       "VACCINES_USED                           0.028302\n",
       "FIRST_VACCINE_DATE                      0.160377\n",
       "NUMBER_VACCINES_TYPES_USED              0.028302\n",
       "dtype: float64"
      ]
     },
     "execution_count": 20,
     "metadata": {},
     "output_type": "execute_result"
    }
   ],
   "source": [
    "who_vacc_df.isnull().mean()"
   ]
  },
  {
   "cell_type": "code",
   "execution_count": 28,
   "metadata": {},
   "outputs": [
    {
     "data": {
      "text/plain": [
       "iso_code                                  0.000000\n",
       "continent                                 4.834893\n",
       "location                                  0.000000\n",
       "date                                      0.000000\n",
       "total_cases                               2.401988\n",
       "new_cases                                 2.404366\n",
       "new_cases_smoothed                        3.594659\n",
       "total_deaths                             13.845916\n",
       "new_deaths                               13.658038\n",
       "new_deaths_smoothed                       3.594659\n",
       "total_cases_per_million                   2.929950\n",
       "new_cases_per_million                     2.932328\n",
       "new_cases_smoothed_per_million            4.116675\n",
       "total_deaths_per_million                 14.358419\n",
       "new_deaths_per_million                   14.170541\n",
       "new_deaths_smoothed_per_million           4.116675\n",
       "reproduction_rate                        19.102941\n",
       "icu_patients                             89.569188\n",
       "icu_patients_per_million                 89.569188\n",
       "hosp_patients                            87.412155\n",
       "hosp_patients_per_million                87.412155\n",
       "weekly_icu_admissions                    99.078445\n",
       "weekly_icu_admissions_per_million        99.078445\n",
       "weekly_hosp_admissions                   98.482704\n",
       "weekly_hosp_admissions_per_million       98.482704\n",
       "new_tests                                54.242125\n",
       "total_tests                              54.596478\n",
       "total_tests_per_thousand                 54.596478\n",
       "new_tests_per_thousand                   54.242125\n",
       "new_tests_smoothed                       47.595039\n",
       "new_tests_smoothed_per_thousand          47.595039\n",
       "positive_rate                            49.596300\n",
       "tests_per_case                           50.301438\n",
       "tests_units                              45.892243\n",
       "total_vaccinations                       89.559675\n",
       "people_vaccinated                        90.408695\n",
       "people_fully_vaccinated                  92.977157\n",
       "new_vaccinations                         91.185179\n",
       "new_vaccinations_smoothed                83.099278\n",
       "total_vaccinations_per_hundred           89.559675\n",
       "people_vaccinated_per_hundred            90.408695\n",
       "people_fully_vaccinated_per_hundred      92.977157\n",
       "new_vaccinations_smoothed_per_million    83.099278\n",
       "stringency_index                         15.098042\n",
       "population                                0.646872\n",
       "population_density                        6.932471\n",
       "median_age                                9.905228\n",
       "aged_65_older                            10.934992\n",
       "aged_70_older                            10.410597\n",
       "gdp_per_capita                            9.527094\n",
       "extreme_poverty                          38.375923\n",
       "cardiovasc_death_rate                     8.812443\n",
       "diabetes_prevalence                       7.498484\n",
       "female_smokers                           28.538473\n",
       "male_smokers                             29.593208\n",
       "handwashing_facilities                   54.181481\n",
       "hospital_beds_per_thousand               16.767542\n",
       "life_expectancy                           5.096496\n",
       "human_development_index                   8.942055\n",
       "dtype: float64"
      ]
     },
     "execution_count": 28,
     "metadata": {},
     "output_type": "execute_result"
    }
   ],
   "source": [
    "owid_covid_df.isnull().mean() * 100"
   ]
  },
  {
   "cell_type": "code",
   "execution_count": null,
   "metadata": {},
   "outputs": [],
   "source": []
  }
 ],
 "metadata": {
  "kernelspec": {
   "display_name": "Python 3",
   "language": "python",
   "name": "python3"
  },
  "language_info": {
   "codemirror_mode": {
    "name": "ipython",
    "version": 3
   },
   "file_extension": ".py",
   "mimetype": "text/x-python",
   "name": "python",
   "nbconvert_exporter": "python",
   "pygments_lexer": "ipython3",
   "version": "3.8.3"
  }
 },
 "nbformat": 4,
 "nbformat_minor": 4
}
